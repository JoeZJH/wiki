{
 "cells": [
  {
   "cell_type": "code",
   "execution_count": 1,
   "metadata": {
    "collapsed": true
   },
   "outputs": [],
   "source": [
    "import numpy as np\n",
    "import matplotlib.pyplot as plt"
   ]
  },
  {
   "cell_type": "markdown",
   "metadata": {},
   "source": [
    "### 软阈值算法\n",
    "\n",
    "Lasso等价于求解如下问题\n",
    "\n",
    "$$\n",
    "\\min \\frac{1}{2}||Ax - b||^2 + \\lambda_1 ||x||_1 + \\lambda_2 ||x||_2^2 \n",
    "$$"
   ]
  },
  {
   "cell_type": "code",
   "execution_count": 135,
   "metadata": {
    "collapsed": false
   },
   "outputs": [
    {
     "name": "stdout",
     "output_type": "stream",
     "text": [
      "ground truth: [ 0.          0.42171383 -0.94716965  0.54640995  0.67948742  0.88857648\n",
      "  0.14209921 -0.70685128  0.43310285 -1.2423563   0.27323468 -0.23007387\n",
      "  1.53049499 -0.03076339 -0.          0.53795911  1.1853585   0.66830622\n",
      "  0.0813316  -0.39508658  0.75451939  0.53967945 -0.         -0.79440595\n",
      "  0.10416921 -0.76577241  2.21847433 -1.38163076  0.6089114   1.18767332\n",
      " -1.28999937  0.65445551 -0.3248272  -0.88002173 -0.82729771  0.47309462\n",
      " -0.8384278  -1.66928355  0.85613791  0.31921217  2.51727067  1.11885762\n",
      "  0.38646877  0.32068998  0.          1.02912399 -0.4607417  -0.84519518\n",
      " -0.          0.34949314  0.56150765  0.08035849  1.812666   -1.23004836\n",
      "  1.65564242  0.23581581 -0.03529459 -0.33258733 -0.65909872 -1.1317373\n",
      " -0.46223132  0.97113475  0.          0.17753836 -0.          0.\n",
      "  0.08929848  0.02685682  0.         -0.          1.86521051 -1.02918525\n",
      "  1.39816556 -0.32507115  0.20111102 -0.         -1.81123986  0.18043876\n",
      "  0.         -0.84625861  0.8709556   0.          0.65961205  2.35225572\n",
      "  0.         -0.04910171 -1.35667457 -1.45385942  0.15419398  1.1789595\n",
      "  0.7340732  -0.          0.85819805  0.57832173  0.49845621  0.         -0.6047393\n",
      "  0.99361454  0.45679531  0.28392374]\n"
     ]
    }
   ],
   "source": [
    "n = 100\n",
    "A = np.random.randn(n*10, n)\n",
    "xx = np.random.randn(n)\n",
    "mask = np.random.rand(n)<0.8\n",
    "xx = xx * mask\n",
    "print 'ground truth:', xx\n",
    "\n",
    "b = np.matmul(A, xx) + np.random.randn(n*10) * 0.1\n",
    "\n",
    "def f(x, lab=1, lab2=0.01):\n",
    "    return 0.5*np.sum((np.matmul(A, x) - b)**2 )+ lab * np.sum(np.abs(x)) + lab2*np.sum(x*x)\n",
    "\n",
    "def grad(x, lab2=0.01):\n",
    "    return np.matmul(A.T, np.matmul(A, x) - b) + lab2*x"
   ]
  },
  {
   "cell_type": "code",
   "execution_count": 136,
   "metadata": {
    "collapsed": false,
    "scrolled": false
   },
   "outputs": [
    {
     "name": "stdout",
     "output_type": "stream",
     "text": [
      "0 loss= 7532.16879981\n",
      "10 loss= 11.0285759018\n",
      "20 loss= 10.9840030328\n",
      "30 loss= 10.9842744582\n",
      "40 loss= 10.9842770859\n",
      "50 loss= 10.9842771092\n",
      "60 loss= 10.9842771094\n",
      "70 loss= 10.9842771094\n",
      "80 loss= 10.9842771094\n",
      "90 loss= 10.9842771094\n",
      "[ 0.          0.41005474 -0.93416517  0.52872225  0.66901803  0.87710187\n",
      "  0.1254697  -0.69410934  0.42094427 -1.23128115  0.25644887 -0.22262353\n",
      "  1.51692245 -0.02018758  0.          0.53116499  1.17967392  0.64459272\n",
      "  0.06787308 -0.38043066  0.74631218  0.52152388  0.         -0.79768153\n",
      "  0.09135038 -0.75555311  2.20245087 -1.36570672  0.59778203  1.17212485\n",
      " -1.27509079  0.63889237 -0.31797818 -0.87161519 -0.81344888  0.464237\n",
      " -0.82969714 -1.66337076  0.83671452  0.30766759  2.50494207  1.1034511\n",
      "  0.38148637  0.31093457  0.          1.02118932 -0.45228788 -0.8302418   0.\n",
      "  0.32929066  0.54006833  0.06742762  1.80640673 -1.2229943   1.64774712\n",
      "  0.21735476 -0.02296309 -0.3222897  -0.65161403 -1.10748401 -0.44978335\n",
      "  0.95982422  0.          0.16099326 -0.00337374  0.          0.0845288\n",
      "  0.01798603  0.          0.          1.84882179 -1.01734222  1.39139325\n",
      " -0.31544124  0.18957113  0.         -1.80153297  0.17600738  0.\n",
      " -0.83960423  0.86347204  0.          0.64546066  2.35318802  0.\n",
      " -0.03208243 -1.34212428 -1.44773413  0.14815159  1.17458127  0.72367534\n",
      "  0.          0.84649559  0.56543654  0.47495661  0.         -0.59702874\n",
      "  0.98713984  0.4507846   0.27214572]\n"
     ]
    }
   ],
   "source": [
    "x = np.random.randn(n)\n",
    "mu = 0.001\n",
    "lamb = 0.01\n",
    "lab2 = 0.01\n",
    "\n",
    "for i in range(100):\n",
    "    x -= grad(x, lab2) * mu\n",
    "    for j in range(len(x)):\n",
    "        if x[j] >  lamb:\n",
    "            x[j] -= lamb\n",
    "        elif x[j] < - lamb:\n",
    "            x[j] += lamb\n",
    "        else:\n",
    "            x[j] = 0.0\n",
    "    if i % 10 == 0:\n",
    "        print i, 'loss=', f(x, lamb, lab2)\n",
    "\n",
    "print x\n",
    "    #xs.append(x)"
   ]
  },
  {
   "cell_type": "code",
   "execution_count": 123,
   "metadata": {
    "collapsed": false
   },
   "outputs": [
    {
     "data": {
      "text/plain": [
       "((1000, 100), (100,))"
      ]
     },
     "execution_count": 123,
     "metadata": {},
     "output_type": "execute_result"
    }
   ],
   "source": [
    "A.shape, x.shape"
   ]
  },
  {
   "cell_type": "code",
   "execution_count": 128,
   "metadata": {
    "collapsed": false
   },
   "outputs": [
    {
     "data": {
      "text/plain": [
       "(100,)"
      ]
     },
     "execution_count": 128,
     "metadata": {},
     "output_type": "execute_result"
    }
   ],
   "source": [
    "np.matmul(A.T, np.matmul(A, x)).shape"
   ]
  },
  {
   "cell_type": "code",
   "execution_count": 139,
   "metadata": {
    "collapsed": false
   },
   "outputs": [
    {
     "name": "stdout",
     "output_type": "stream",
     "text": [
      "ground truth: [-1.36625036 -0.55647112 -0.82246768  0.84217563 -0.08720997 -0.64132924\n",
      " -0.95707829  1.51312313  1.26390335 -0.99380492 -0.43427196  0.36033297\n",
      "  0.73330253 -1.231157   -0.         -0.23831347 -0.2848193   0.11251009\n",
      " -0.          0.62240092 -0.42929921  0.17010806  0.79567326  0.61830122\n",
      " -0.73834316  0.19049976 -0.08864695  0.64171463 -1.28029626 -0.28402152\n",
      "  0.         -0.         -0.88307544  0.6545958   0.42999154 -0.\n",
      "  0.14067198 -1.03101742 -0.          0.61528868  0.19833495  0.\n",
      "  1.76158233  0.08017685  0.97191262 -0.26786719 -0.          0.34401971\n",
      " -0.11277576  1.48907691 -0.88792459 -0.7063572  -0.49548448  1.40411376\n",
      "  0.65631866 -0.05949361 -0.11896455  0.43241288 -0.59575793  0.78344724\n",
      "  0.50480893 -0.22666334  0.31385063 -1.10844337 -0.35673557  0.76903286\n",
      " -0.36995519 -2.67299023 -1.17256928 -0.56919169  0.          0.\n",
      " -0.98727726 -1.75493367 -2.01309591 -0.35344787  0.68056606  0.21232123\n",
      "  0.46601866 -0.31807702  0.91267404 -1.48820956  2.26252274  0.64721386\n",
      "  0.         -0.          0.05689703  0.18821837 -0.2205588   0.\n",
      " -0.62869401  1.2799025  -0.21985541  0.69498135  0.75643776 -0.65745793\n",
      "  0.         -0.78577441 -0.50086061 -0.41812782]\n"
     ]
    }
   ],
   "source": [
    "n = 100\n",
    "A = np.random.randn(n*10, n)\n",
    "xx = np.random.randn(n)\n",
    "mask = np.random.rand(n)<0.8\n",
    "xx = xx * mask\n",
    "print 'ground truth:', xx\n",
    "\n",
    "b = np.sign(np.matmul(A, xx) + np.random.randn(n*10) * 0.1)\n",
    "\n",
    "def f(x, lab=1, lab2=0.01):\n",
    "    return 0.5*np.sum(np.maximum(np.matmul(A, x) * b - 1, 0) )+ lab + lab2*np.sum(x*x)\n",
    "\n",
    "def grad(x, lab2=0.01):\n",
    "    return np.matmul(A.T, np.matmul(A, x) - b) + lab2*x"
   ]
  },
  {
   "cell_type": "code",
   "execution_count": 140,
   "metadata": {
    "collapsed": false
   },
   "outputs": [
    {
     "data": {
      "text/plain": [
       "1689.1787566377482"
      ]
     },
     "execution_count": 140,
     "metadata": {},
     "output_type": "execute_result"
    }
   ],
   "source": [
    "x = np.random.randn(n)\n",
    "f(x)"
   ]
  },
  {
   "cell_type": "code",
   "execution_count": 145,
   "metadata": {
    "collapsed": false
   },
   "outputs": [
    {
     "data": {
      "text/plain": [
       "array([ 0.        ,  0.39039614,  0.        ,  0.23936048,  0.11883701])"
      ]
     },
     "execution_count": 145,
     "metadata": {},
     "output_type": "execute_result"
    }
   ],
   "source": [
    "np.maximum(np.random.randn(5),0)"
   ]
  },
  {
   "cell_type": "code",
   "execution_count": null,
   "metadata": {
    "collapsed": true
   },
   "outputs": [],
   "source": []
  }
 ],
 "metadata": {
  "kernelspec": {
   "display_name": "Python 2",
   "language": "python",
   "name": "python2"
  },
  "language_info": {
   "codemirror_mode": {
    "name": "ipython",
    "version": 2
   },
   "file_extension": ".py",
   "mimetype": "text/x-python",
   "name": "python",
   "nbconvert_exporter": "python",
   "pygments_lexer": "ipython2",
   "version": "2.7.10"
  }
 },
 "nbformat": 4,
 "nbformat_minor": 0
}
