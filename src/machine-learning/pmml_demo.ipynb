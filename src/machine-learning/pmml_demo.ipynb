{
 "cells": [
  {
   "cell_type": "markdown",
   "metadata": {},
   "source": [
    "## PMML模型发布DEMO\n",
    "\n",
    "以XGBoost为例，使用PMML文件进行模型发布。\n",
    "首先，我们需要有一个XGBoost模型，为此，可以以Iris数据集训练一个简单的二分类模型（只用其中的两类）。\n",
    "然后利用 XGBoost 训练得到模型文件。\n",
    "\n",
    "利用XGBoost模型转PMML的工具：https://github.com/jpmml/jpmml-xgboost\n",
    "可以非常容易进行转换。"
   ]
  },
  {
   "cell_type": "code",
   "execution_count": 1,
   "metadata": {
    "collapsed": true
   },
   "outputs": [],
   "source": [
    "from sklearn.datasets import load_iris\n",
    "\n",
    "iris = load_iris()"
   ]
  },
  {
   "cell_type": "code",
   "execution_count": 11,
   "metadata": {
    "collapsed": false
   },
   "outputs": [],
   "source": [
    "mask = iris.target < 2\n",
    "\n",
    "X = iris.data[mask,:]\n",
    "y = iris.target[mask]"
   ]
  },
  {
   "cell_type": "code",
   "execution_count": 19,
   "metadata": {
    "collapsed": false
   },
   "outputs": [
    {
     "name": "stdout",
     "output_type": "stream",
     "text": [
      "[0]\ttrain-rmse:0.364576\n",
      "[1]\ttrain-rmse:0.27088\n",
      "[2]\ttrain-rmse:0.203626\n",
      "[3]\ttrain-rmse:0.154579\n",
      "[4]\ttrain-rmse:0.118482\n",
      "[5]\ttrain-rmse:0.091745\n",
      "[6]\ttrain-rmse:0.071832\n",
      "[7]\ttrain-rmse:0.056919\n",
      "[8]\ttrain-rmse:0.045683\n",
      "[9]\ttrain-rmse:0.037156\n"
     ]
    }
   ],
   "source": [
    "import xgboost as xgb\n",
    "\n",
    "params = {\n",
    "    'objective' : 'reg:logistic',\n",
    "    'num_round' : 10,\n",
    "    'max_depth' : 3\n",
    "}\n",
    "\n",
    "dtrain = xgb.DMatrix(X, label=y)\n",
    "evallist = [(dtrain, 'train')]\n",
    "bst = xgb.train(params, dtrain, evals=evallist)\n",
    "bst.save_model('xgb.bin')"
   ]
  },
  {
   "cell_type": "markdown",
   "metadata": {},
   "source": [
    "#### 生成特征映射文件\n",
    "特征映射文件包括三列，第一列是id，第二列是特征名，第三列是特征数据类型.\n",
    "参考 <https://github.com/jpmml/jpmml-xgboost/tree/master/src/test/resources/csv>。\n",
    "\n",
    "数据类型参考：<https://github.com/jpmml/jpmml-xgboost/blob/4cc1d8e191b58dfde1c015cf3bc0e7ff3c80a2af/src/main/java/org/jpmml/xgboost/FeatureMap.java#L66>"
   ]
  },
  {
   "cell_type": "code",
   "execution_count": 26,
   "metadata": {
    "collapsed": false
   },
   "outputs": [],
   "source": [
    "f = open('fmap.txt', 'w')\n",
    "for i, fn in enumerate(iris.feature_names):\n",
    "    f.write('%d\\t%s\\t%s\\n' % (i, fn, 'q')) \n",
    "f.close()"
   ]
  },
  {
   "cell_type": "markdown",
   "metadata": {},
   "source": [
    "#### 转换模型\n",
    "利用 jpmml-xb"
   ]
  },
  {
   "cell_type": "code",
   "execution_count": 27,
   "metadata": {
    "collapsed": false
   },
   "outputs": [],
   "source": [
    "!java -jar converter-executable-1.2-SNAPSHOT.jar --model-input xgb.bin  --fmap-input fmap.txt  --pmml-output xgb.pmml.xml"
   ]
  },
  {
   "cell_type": "code",
   "execution_count": null,
   "metadata": {
    "collapsed": true
   },
   "outputs": [],
   "source": []
  }
 ],
 "metadata": {
  "kernelspec": {
   "display_name": "Python 2",
   "language": "python",
   "name": "python2"
  },
  "language_info": {
   "codemirror_mode": {
    "name": "ipython",
    "version": 2
   },
   "file_extension": ".py",
   "mimetype": "text/x-python",
   "name": "python",
   "nbconvert_exporter": "python",
   "pygments_lexer": "ipython2",
   "version": "2.7.10"
  }
 },
 "nbformat": 4,
 "nbformat_minor": 0
}
