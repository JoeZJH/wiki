{
 "cells": [
  {
   "cell_type": "markdown",
   "metadata": {},
   "source": [
    "## PMML模型发布DEMO\n",
    "\n",
    "以XGBoost为例，使用PMML文件进行模型发布。\n",
    "首先，我们需要有一个XGBoost模型，为此，可以以Iris数据集训练一个简单的二分类模型（只用其中的两类）。\n",
    "然后利用 XGBoost 训练得到模型文件。\n",
    "\n",
    "利用XGBoost模型转PMML的工具：https://github.com/jpmml/jpmml-xgboost\n",
    "可以非常容易进行转换。"
   ]
  },
  {
   "cell_type": "code",
   "execution_count": 1,
   "metadata": {
    "collapsed": true
   },
   "outputs": [],
   "source": [
    "from sklearn.datasets import load_iris\n",
    "\n",
    "iris = load_iris()"
   ]
  },
  {
   "cell_type": "code",
   "execution_count": 2,
   "metadata": {
    "collapsed": false
   },
   "outputs": [],
   "source": [
    "X = iris.data\n",
    "y = (iris.target == 1).astype(int)"
   ]
  },
  {
   "cell_type": "code",
   "execution_count": 3,
   "metadata": {
    "collapsed": false
   },
   "outputs": [
    {
     "name": "stdout",
     "output_type": "stream",
     "text": [
      "[0]\ttrain-rmse:0.378794\n",
      "[1]\ttrain-rmse:0.29549\n",
      "[2]\ttrain-rmse:0.241123\n",
      "[3]\ttrain-rmse:0.20289\n",
      "[4]\ttrain-rmse:0.177793\n",
      "[5]\ttrain-rmse:0.161685\n",
      "[6]\ttrain-rmse:0.150411\n",
      "[7]\ttrain-rmse:0.141292\n",
      "[8]\ttrain-rmse:0.136706\n",
      "[9]\ttrain-rmse:0.130609\n"
     ]
    },
    {
     "name": "stderr",
     "output_type": "stream",
     "text": [
      "/Library/Python/2.7/site-packages/sklearn/cross_validation.py:41: DeprecationWarning: This module was deprecated in version 0.18 in favor of the model_selection module into which all the refactored classes and functions are moved. Also note that the interface of the new CV iterators are different from that of this module. This module will be removed in 0.20.\n",
      "  \"This module will be removed in 0.20.\", DeprecationWarning)\n"
     ]
    }
   ],
   "source": [
    "import xgboost as xgb\n",
    "\n",
    "params = {\n",
    "    'objective' : 'reg:logistic',\n",
    "    'num_round' : 10,\n",
    "    'max_depth' : 3\n",
    "}\n",
    "\n",
    "dtrain = xgb.DMatrix(X, label=y)\n",
    "evallist = [(dtrain, 'train')]\n",
    "bst = xgb.train(params, dtrain, evals=evallist)\n",
    "bst.save_model('xgb.bin')"
   ]
  },
  {
   "cell_type": "markdown",
   "metadata": {},
   "source": [
    "#### 生成特征映射文件\n",
    "特征映射文件包括三列，第一列是id，第二列是特征名，第三列是特征数据类型.\n",
    "参考 <https://github.com/jpmml/jpmml-xgboost/tree/master/src/test/resources/csv>。\n",
    "\n",
    "数据类型参考：<https://github.com/jpmml/jpmml-xgboost/blob/4cc1d8e191b58dfde1c015cf3bc0e7ff3c80a2af/src/main/java/org/jpmml/xgboost/FeatureMap.java#L66>"
   ]
  },
  {
   "cell_type": "code",
   "execution_count": 4,
   "metadata": {
    "collapsed": false
   },
   "outputs": [
    {
     "name": "stdout",
     "output_type": "stream",
     "text": [
      "0\tsepal length (cm)\tq\r\n",
      "1\tsepal width (cm)\tq\r\n",
      "2\tpetal length (cm)\tq\r\n",
      "3\tpetal width (cm)\tq\r\n"
     ]
    }
   ],
   "source": [
    "f = open('fmap.txt', 'w')\n",
    "for i, fn in enumerate(iris.feature_names):\n",
    "    f.write('%d\\t%s\\t%s\\n' % (i, fn, 'q')) \n",
    "f.close()\n",
    "\n",
    "!cat fmap.txt"
   ]
  },
  {
   "cell_type": "markdown",
   "metadata": {},
   "source": [
    "#### 转换模型\n",
    "利用 jpmml-xgboost 项目<https://github.com/jpmml/jpmml-xgboost>提供的工具，进行转换。\n",
    "\n",
    "你也可以直接下载我已经编译好的jar包 <https://github.com/tracholar/wiki/raw/master/src/machine-learning/converter-executable-1.2-SNAPSHOT.jar>。\n",
    "\n",
    "然后执行下述命令，即可得到转换后的PMML文件 xgb.pmml.xml。"
   ]
  },
  {
   "cell_type": "code",
   "execution_count": 5,
   "metadata": {
    "collapsed": false
   },
   "outputs": [],
   "source": [
    "!java -jar converter-executable-1.2-SNAPSHOT.jar --model-input xgb.bin  --fmap-input fmap.txt  --pmml-output xgb.pmml.xml"
   ]
  },
  {
   "cell_type": "code",
   "execution_count": 6,
   "metadata": {
    "collapsed": false
   },
   "outputs": [
    {
     "name": "stdout",
     "output_type": "stream",
     "text": [
      "<?xml version=\"1.0\" encoding=\"UTF-8\" standalone=\"yes\"?>\r\n",
      "<PMML xmlns=\"http://www.dmg.org/PMML-4_3\" version=\"4.3\">\r\n",
      "\t<Header>\r\n",
      "\t\t<Application name=\"JPMML-XGBoost\" version=\"1.2-SNAPSHOT\"/>\r\n",
      "\t\t<Timestamp>2017-10-18T03:53:12Z</Timestamp>\r\n",
      "\t</Header>\r\n",
      "\t<DataDictionary>\r\n",
      "\t\t<DataField name=\"_target\" optype=\"continuous\" dataType=\"float\"/>\r\n",
      "\t\t<DataField name=\"sepal width (cm)\" optype=\"continuous\" dataType=\"float\"/>\r\n",
      "\t\t<DataField name=\"petal length (cm)\" optype=\"continuous\" dataType=\"float\"/>\r\n",
      "\t\t<DataField name=\"petal width (cm)\" optype=\"continuous\" dataType=\"float\"/>\r\n",
      "\t</DataDictionary>\r\n"
     ]
    }
   ],
   "source": [
    "!head -12 xgb.pmml.xml"
   ]
  },
  {
   "cell_type": "code",
   "execution_count": null,
   "metadata": {
    "collapsed": true
   },
   "outputs": [],
   "source": []
  }
 ],
 "metadata": {
  "kernelspec": {
   "display_name": "Python 2",
   "language": "python",
   "name": "python2"
  },
  "language_info": {
   "codemirror_mode": {
    "name": "ipython",
    "version": 2
   },
   "file_extension": ".py",
   "mimetype": "text/x-python",
   "name": "python",
   "nbconvert_exporter": "python",
   "pygments_lexer": "ipython2",
   "version": "2.7.10"
  }
 },
 "nbformat": 4,
 "nbformat_minor": 0
}
