{
 "cells": [
  {
   "cell_type": "code",
   "execution_count": 1,
   "metadata": {
    "collapsed": true
   },
   "outputs": [],
   "source": [
    "import numpy as np\n",
    "import gym"
   ]
  },
  {
   "cell_type": "code",
   "execution_count": 2,
   "metadata": {
    "collapsed": false
   },
   "outputs": [],
   "source": [
    "\"\"\"构建一个简单的环境，有nS个状态，0，1，...，nS-1；其中nS-1是终止状态。\n",
    "该环境下一共两个动作：0向左运动，1向右运动，每个动作都有概率p0不动，p1的概率会往反方向运动, 1-p0-p1概率正常运动。\n",
    "\"\"\"\n",
    "nS = 10\n",
    "nA = 2  #不要改这个参数\n",
    "Done = nS - 1\n",
    "p0 = 0.1\n",
    "p1 = 0.1\n",
    "P = np.zeros((nS, nA, nS)) # 转移概率\n",
    "R = np.zeros((nS, nA, nS)) - 1.0 # 回报都是-1\n",
    "gamma = 1\n",
    "\n",
    "for s in range(nS):\n",
    "    if s == Done: # 终止态转移概率都为0\n",
    "        continue\n",
    "    for a in range(nA):\n",
    "        inc = a * 2 - 1 # 步长        \n",
    "        P[s, a, s] += p0 # 不动\n",
    "        P[s, a, max(0, s - inc)] += p1 # 反方向\n",
    "        P[s, a, max(0, s + inc)] += 1 - p0 - p1 # 正常运动\n"
   ]
  },
  {
   "cell_type": "code",
   "execution_count": 3,
   "metadata": {
    "collapsed": false
   },
   "outputs": [
    {
     "data": {
      "text/plain": [
       "(array([[[ 0.9,  0.1,  0. ,  0. ,  0. ,  0. ,  0. ,  0. ,  0. ,  0. ],\n",
       "         [ 0.2,  0.8,  0. ,  0. ,  0. ,  0. ,  0. ,  0. ,  0. ,  0. ]],\n",
       " \n",
       "        [[ 0.8,  0.1,  0.1,  0. ,  0. ,  0. ,  0. ,  0. ,  0. ,  0. ],\n",
       "         [ 0.1,  0.1,  0.8,  0. ,  0. ,  0. ,  0. ,  0. ,  0. ,  0. ]],\n",
       " \n",
       "        [[ 0. ,  0.8,  0.1,  0.1,  0. ,  0. ,  0. ,  0. ,  0. ,  0. ],\n",
       "         [ 0. ,  0.1,  0.1,  0.8,  0. ,  0. ,  0. ,  0. ,  0. ,  0. ]],\n",
       " \n",
       "        [[ 0. ,  0. ,  0.8,  0.1,  0.1,  0. ,  0. ,  0. ,  0. ,  0. ],\n",
       "         [ 0. ,  0. ,  0.1,  0.1,  0.8,  0. ,  0. ,  0. ,  0. ,  0. ]],\n",
       " \n",
       "        [[ 0. ,  0. ,  0. ,  0.8,  0.1,  0.1,  0. ,  0. ,  0. ,  0. ],\n",
       "         [ 0. ,  0. ,  0. ,  0.1,  0.1,  0.8,  0. ,  0. ,  0. ,  0. ]],\n",
       " \n",
       "        [[ 0. ,  0. ,  0. ,  0. ,  0.8,  0.1,  0.1,  0. ,  0. ,  0. ],\n",
       "         [ 0. ,  0. ,  0. ,  0. ,  0.1,  0.1,  0.8,  0. ,  0. ,  0. ]],\n",
       " \n",
       "        [[ 0. ,  0. ,  0. ,  0. ,  0. ,  0.8,  0.1,  0.1,  0. ,  0. ],\n",
       "         [ 0. ,  0. ,  0. ,  0. ,  0. ,  0.1,  0.1,  0.8,  0. ,  0. ]],\n",
       " \n",
       "        [[ 0. ,  0. ,  0. ,  0. ,  0. ,  0. ,  0.8,  0.1,  0.1,  0. ],\n",
       "         [ 0. ,  0. ,  0. ,  0. ,  0. ,  0. ,  0.1,  0.1,  0.8,  0. ]],\n",
       " \n",
       "        [[ 0. ,  0. ,  0. ,  0. ,  0. ,  0. ,  0. ,  0.8,  0.1,  0.1],\n",
       "         [ 0. ,  0. ,  0. ,  0. ,  0. ,  0. ,  0. ,  0.1,  0.1,  0.8]],\n",
       " \n",
       "        [[ 0. ,  0. ,  0. ,  0. ,  0. ,  0. ,  0. ,  0. ,  0. ,  0. ],\n",
       "         [ 0. ,  0. ,  0. ,  0. ,  0. ,  0. ,  0. ,  0. ,  0. ,  0. ]]]),\n",
       " array([[[-1., -1., -1., -1., -1., -1., -1., -1., -1., -1.],\n",
       "         [-1., -1., -1., -1., -1., -1., -1., -1., -1., -1.]],\n",
       " \n",
       "        [[-1., -1., -1., -1., -1., -1., -1., -1., -1., -1.],\n",
       "         [-1., -1., -1., -1., -1., -1., -1., -1., -1., -1.]],\n",
       " \n",
       "        [[-1., -1., -1., -1., -1., -1., -1., -1., -1., -1.],\n",
       "         [-1., -1., -1., -1., -1., -1., -1., -1., -1., -1.]],\n",
       " \n",
       "        [[-1., -1., -1., -1., -1., -1., -1., -1., -1., -1.],\n",
       "         [-1., -1., -1., -1., -1., -1., -1., -1., -1., -1.]],\n",
       " \n",
       "        [[-1., -1., -1., -1., -1., -1., -1., -1., -1., -1.],\n",
       "         [-1., -1., -1., -1., -1., -1., -1., -1., -1., -1.]],\n",
       " \n",
       "        [[-1., -1., -1., -1., -1., -1., -1., -1., -1., -1.],\n",
       "         [-1., -1., -1., -1., -1., -1., -1., -1., -1., -1.]],\n",
       " \n",
       "        [[-1., -1., -1., -1., -1., -1., -1., -1., -1., -1.],\n",
       "         [-1., -1., -1., -1., -1., -1., -1., -1., -1., -1.]],\n",
       " \n",
       "        [[-1., -1., -1., -1., -1., -1., -1., -1., -1., -1.],\n",
       "         [-1., -1., -1., -1., -1., -1., -1., -1., -1., -1.]],\n",
       " \n",
       "        [[-1., -1., -1., -1., -1., -1., -1., -1., -1., -1.],\n",
       "         [-1., -1., -1., -1., -1., -1., -1., -1., -1., -1.]],\n",
       " \n",
       "        [[-1., -1., -1., -1., -1., -1., -1., -1., -1., -1.],\n",
       "         [-1., -1., -1., -1., -1., -1., -1., -1., -1., -1.]]]))"
      ]
     },
     "execution_count": 3,
     "metadata": {},
     "output_type": "execute_result"
    }
   ],
   "source": [
    "P, R"
   ]
  },
  {
   "cell_type": "code",
   "execution_count": 4,
   "metadata": {
    "collapsed": false
   },
   "outputs": [
    {
     "name": "stdout",
     "output_type": "stream",
     "text": [
      "iteral steps: 57\n",
      "[-12.65306123 -11.40306123  -9.99681123  -8.57102998  -7.14280732\n",
      "  -5.71427949  -4.28571351  -2.85714276  -1.42857142   0.        ]\n"
     ]
    }
   ],
   "source": [
    "# 值迭代\n",
    "\n",
    "V = np.zeros(nS)\n",
    "\n",
    "for it in range(1000):\n",
    "    converage = True\n",
    "    for s in range(nS):\n",
    "        if s == Done:\n",
    "            V[s] = 0\n",
    "            continue\n",
    "            \n",
    "        # HJB 非线性方程\n",
    "        maxV = max(sum(\n",
    "                        P[s, a, ss]*(R[s, a, ss] + gamma * V[ss])\n",
    "                            for ss in range(nS)\n",
    "                        ) for a in range(nA)\n",
    "                   )\n",
    "        \n",
    "        if V[s] != maxV:\n",
    "            converage = False\n",
    "            V[s] = maxV\n",
    "    if converage:\n",
    "        break\n",
    "\n",
    "print 'iteral steps:', it\n",
    "print V"
   ]
  },
  {
   "cell_type": "code",
   "execution_count": 5,
   "metadata": {
    "collapsed": false
   },
   "outputs": [
    {
     "data": {
      "text/plain": [
       "array([-12.65306123, -11.40306123,  -9.99681123,  -8.57102998,\n",
       "        -7.14280732,  -5.71427949,  -4.28571351,  -2.85714276,\n",
       "        -1.42857142,   0.        ])"
      ]
     },
     "execution_count": 5,
     "metadata": {},
     "output_type": "execute_result"
    }
   ],
   "source": [
    "V"
   ]
  },
  {
   "cell_type": "code",
   "execution_count": 6,
   "metadata": {
    "collapsed": false,
    "scrolled": false
   },
   "outputs": [
    {
     "name": "stdout",
     "output_type": "stream",
     "text": [
      "iter 0 pi = [0 0 0 0 0 0 0 1 1 0]\n",
      "iter 1 pi = [0 0 0 0 0 1 1 1 1 0]\n",
      "iter 2 pi = [0 0 0 1 1 1 1 1 1 0]\n",
      "iter 3 pi = [1 1 1 1 1 1 1 1 1 0]\n",
      "iter 4 pi = [1 1 1 1 1 1 1 1 1 0]\n",
      "pi = [1 1 1 1 1 1 1 1 1 0]\n",
      "V = [-12.65306123 -11.40306123  -9.99681123  -8.57102998  -7.14280732\n",
      "  -5.71427949  -4.28571351  -2.85714276  -1.42857142   0.        ]\n"
     ]
    }
   ],
   "source": [
    "pi = np.zeros(nS, dtype=int) #初始策略全部往左\n",
    "\n",
    "for it in range(100):\n",
    "    \n",
    "    V = np.zeros(nS)\n",
    "    \n",
    "    # 策略评估，解线性方程，雅克比迭代法\n",
    "    for _ in range(100):\n",
    "        converage = True\n",
    "        for s in range(nS):\n",
    "            if s == Done:\n",
    "                V[s] = 0\n",
    "                continue\n",
    "\n",
    "            # HJB 线性方程\n",
    "            a = pi[s]\n",
    "            v = sum(P[s, a, ss]*(R[s, a, ss] + gamma * V[ss]) for ss in range(nS))\n",
    "\n",
    "            if V[s] != v:\n",
    "                converage = False\n",
    "                V[s] = v\n",
    "        if converage:\n",
    "            break\n",
    "    \n",
    "    # 策略提升\n",
    "    converage = True\n",
    "    for s in range(nS):\n",
    "        maxA = np.argmax([sum(P[s, a, ss]*(R[s, a, ss] + gamma * V[ss]) for ss in range(nS)) for a in range(nA)])\n",
    "        if maxA != pi[s]:\n",
    "            converage = False\n",
    "            pi[s] = maxA\n",
    "    print 'iter',it, 'pi =',pi\n",
    "    \n",
    "    if converage:\n",
    "        break\n",
    "\n",
    "print 'pi =', pi\n",
    "print 'V =', V"
   ]
  },
  {
   "cell_type": "code",
   "execution_count": 7,
   "metadata": {
    "collapsed": false
   },
   "outputs": [
    {
     "name": "stdout",
     "output_type": "stream",
     "text": [
      "[-13.528061226010323, -12.653061226010323]\n",
      "[-13.262436226010323, -11.403061226010323]\n",
      "[-11.979233101010323, -9.9968112260103226]\n",
      "[-10.568832710385323, -8.5710299760103226]\n",
      "[-9.1425326615571976, -7.1428073197603235]\n",
      "[-7.7142451554536819, -5.7142794877290726]\n",
      "[-6.2857092171907425, -4.2857135087251663]\n",
      "[-4.8571422249078742, -2.857142761349678]\n",
      "[-3.4285713508725171, -1.428571417927742]\n",
      "[0.0, 0.0]\n"
     ]
    }
   ],
   "source": [
    "for s in range(nS):\n",
    "    print [sum(P[s, a, ss]*(R[s, a, ss] + gamma * V[ss]) for ss in range(nS)) for a in range(nA)]"
   ]
  },
  {
   "cell_type": "code",
   "execution_count": 8,
   "metadata": {
    "collapsed": false
   },
   "outputs": [
    {
     "data": {
      "text/plain": [
       "array([1, 1, 1, 1, 1, 1, 1, 1, 1, 0])"
      ]
     },
     "execution_count": 8,
     "metadata": {},
     "output_type": "execute_result"
    }
   ],
   "source": [
    "pi"
   ]
  },
  {
   "cell_type": "code",
   "execution_count": 18,
   "metadata": {
    "collapsed": false
   },
   "outputs": [
    {
     "name": "stdout",
     "output_type": "stream",
     "text": [
      "iter 0 pi= [1 0 1 0 0 1 1 0 1 0]\n",
      "iter 50 pi= [0 1 0 1 0 1 1 0 1 0]\n",
      "iter 100 pi= [0 1 0 1 0 1 1 0 1 0]\n",
      "iter 150 pi= [1 0 1 1 0 1 1 0 1 0]\n",
      "iter 200 pi= [1 0 1 1 0 1 1 1 1 0]\n",
      "iter 250 pi= [1 0 1 1 0 1 1 1 1 0]\n",
      "iter 300 pi= [1 0 1 1 0 1 1 1 1 0]\n",
      "iter 350 pi= [0 1 1 1 1 1 1 1 1 0]\n",
      "iter 400 pi= [0 1 1 1 1 1 1 1 1 0]\n",
      "iter 450 pi= [0 1 1 1 1 1 1 1 1 0]\n",
      "iter 500 pi= [0 1 1 1 1 1 1 1 1 0]\n",
      "iter 550 pi= [1 1 1 1 1 1 1 1 1 0]\n",
      "iter 600 pi= [1 1 1 1 1 1 1 1 1 0]\n",
      "iter 650 pi= [1 1 1 1 1 1 1 1 1 0]\n",
      "iter 700 pi= [1 1 1 1 1 1 1 1 1 0]\n",
      "iter 750 pi= [1 1 1 1 1 1 1 1 1 0]\n",
      "iter 800 pi= [1 1 1 1 1 1 1 1 1 0]\n",
      "iter 850 pi= [1 1 1 1 1 1 1 1 1 0]\n",
      "iter 900 pi= [1 1 1 1 1 1 1 1 1 0]\n",
      "iter 950 pi= [1 1 1 1 1 1 1 1 1 0]\n",
      "V= [-12.60595021 -11.20499113  -9.82580041  -8.41347716  -6.9761059\n",
      "  -5.5099145   -4.19408818  -2.89429492  -1.45856045   0.        ]\n",
      "pi= [1 1 1 1 1 1 1 1 1 0]\n"
     ]
    }
   ],
   "source": [
    "Q = np.zeros((nS, nA))\n",
    "pi = np.random.randint(0, nA, nS)\n",
    "\n",
    "def go_next(s, a):\n",
    "    r = np.random.rand()\n",
    "    i = 0\n",
    "    p = 0\n",
    "    while True:\n",
    "        if r < p + P[s, a, i]:\n",
    "            return i\n",
    "        p += P[s, a, i]\n",
    "        i += 1\n",
    "    return len(P[s, a])\n",
    "    \n",
    "alpha = 0.01\n",
    "for it in range(1000):\n",
    "    if it % 50 == 0:\n",
    "        print 'iter', it, 'pi=', pi\n",
    "        \n",
    "    # 策略评估：根据目前策略仿真一条状态-动作路径，更新Q函数\n",
    "    for s in range(nS):\n",
    "        if s == Done:\n",
    "            continue\n",
    "        for a in range(nA):\n",
    "            # 仿真一条状态-动作路径\n",
    "            history = []\n",
    "            ss = s\n",
    "            while ss != Done:\n",
    "                ss_next = go_next(ss, a)\n",
    "                history.append((ss, a, R[ss,a,ss_next], ss_next))\n",
    "                ss = ss_next\n",
    "                a = pi[ss] #更新动作\n",
    "                #print ss\n",
    "            \n",
    "            Gt = 0\n",
    "            # 对出现的所有(s, a)对更新Q函数，复用这条路径\n",
    "            for i in reversed(range(len(history))):\n",
    "                ss, aa, rr, _ = history[i]\n",
    "                Gt = gamma * Gt + rr\n",
    "                Q[ss, aa] += alpha * (Gt - Q[ss, aa])\n",
    "    \n",
    "    # 策略提升：根据更新后的Q函数，更新策略\n",
    "    for s in range(nS):\n",
    "        pi[s] = np.argmax(Q[s, :])\n",
    "print 'V=', np.max(Q, axis=1)\n",
    "print 'pi=', pi"
   ]
  },
  {
   "cell_type": "code",
   "execution_count": 99,
   "metadata": {
    "collapsed": false
   },
   "outputs": [
    {
     "data": {
      "text/plain": [
       "1"
      ]
     },
     "execution_count": 99,
     "metadata": {},
     "output_type": "execute_result"
    }
   ],
   "source": [
    "go_next(0, 0)"
   ]
  },
  {
   "cell_type": "code",
   "execution_count": 35,
   "metadata": {
    "collapsed": false,
    "scrolled": false
   },
   "outputs": [
    {
     "name": "stdout",
     "output_type": "stream",
     "text": [
      "iter 0 epsilon= 0.9 V[0]= 0.0\n",
      "iter 10 epsilon= 0.813943867508 V[0]= -5.50430863461\n",
      "iter 20 epsilon= 0.736116243838 V[0]= -9.58192560014\n",
      "iter 30 epsilon= 0.665730336049 V[0]= -11.372140159\n",
      "iter 40 epsilon= 0.602074582713 V[0]= -12.0806787351\n",
      "iter 50 epsilon= 0.544505460424 V[0]= -12.3537691746\n",
      "iter 60 epsilon= 0.492440978152 V[0]= -12.5909546081\n",
      "iter 70 epsilon= 0.44535479364 V[0]= -12.657326121\n",
      "iter 80 epsilon= 0.402770892387 V[0]= -12.5917214982\n",
      "iter 90 epsilon= 0.36425877541 V[0]= -12.7107205284\n",
      "V= [-12.70433436 -11.41177551  -9.8564413   -8.59335991  -7.20906867\n",
      "  -5.70400336  -4.41177384  -2.82674456  -1.35446586   0.        ]\n",
      "pi= [1 1 1 1 1 1 1 1 1 0]\n"
     ]
    }
   ],
   "source": [
    "Q = np.zeros((nS, nA))\n",
    "pi = np.random.randint(0, nA, nS)\n",
    "\n",
    "def go_next(s, a):\n",
    "    r = np.random.rand()\n",
    "    i = 0\n",
    "    p = 0\n",
    "    while True:\n",
    "        if r < p + P[s, a, i]:\n",
    "            return i\n",
    "        p += P[s, a, i]\n",
    "        i += 1\n",
    "    return len(P[s, a])\n",
    "    \n",
    "alpha = 0.01\n",
    "epsilon = 0.9 # 探索\n",
    "for it in range(100):\n",
    "    if it % 10 == 0:\n",
    "        print 'iter', it, 'epsilon=', epsilon, 'V[0]=', max(Q[0])\n",
    "        \n",
    "    # 根据目前策略仿真一条状态-动作路径，并同时更新Q函数\n",
    "    for s in range(nS):\n",
    "        if s == Done:\n",
    "            continue\n",
    "        for a in range(nA):\n",
    "            # 仿真一条状态-动作路径\n",
    "            ss = s\n",
    "            while ss != Done:\n",
    "                ss_next = go_next(ss, a)\n",
    "                Gt = R[ss,a,ss_next] + gamma * max(Q[ss_next, :])\n",
    "                Q[ss, a] += alpha * (Gt - Q[ss, a])  # Q-learning 迭代步骤\n",
    "                ss = ss_next\n",
    "                \n",
    "                a = pi[ss] #选择动作\n",
    "                if np.random.rand() < epsilon: # 探索\n",
    "                    a = np.random.randint(0, nA)\n",
    "                #print ss\n",
    "            \n",
    "    epsilon = max(0.01, epsilon *0.99)\n",
    "    \n",
    "for s in range(nS):\n",
    "    pi[s] = np.argmax(Q[s, :])\n",
    "        \n",
    "print 'V=', np.max(Q, axis=1)\n",
    "print 'pi=', pi"
   ]
  },
  {
   "cell_type": "code",
   "execution_count": null,
   "metadata": {
    "collapsed": true
   },
   "outputs": [],
   "source": []
  }
 ],
 "metadata": {
  "kernelspec": {
   "display_name": "Python 2",
   "language": "python",
   "name": "python2"
  },
  "language_info": {
   "codemirror_mode": {
    "name": "ipython",
    "version": 2
   },
   "file_extension": ".py",
   "mimetype": "text/x-python",
   "name": "python",
   "nbconvert_exporter": "python",
   "pygments_lexer": "ipython2",
   "version": "2.7.10"
  }
 },
 "nbformat": 4,
 "nbformat_minor": 0
}
