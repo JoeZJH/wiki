{
 "cells": [
  {
   "cell_type": "code",
   "execution_count": 1,
   "metadata": {
    "collapsed": false
   },
   "outputs": [
    {
     "name": "stdout",
     "output_type": "stream",
     "text": [
      "\u001b[34mMNIST_data\u001b[m\u001b[m                            ml-pp.ipynb\r\n",
      "bayes-optimize.ipynb                  nn-explain.png\r\n",
      "beyes-beta-lda-model.ipynb            \u001b[34moptimization\u001b[m\u001b[m\r\n",
      "converter-executable-1.2-SNAPSHOT.jar parallel_SGD.ipynb\r\n",
      "\u001b[34mdataset\u001b[m\u001b[m                               pmml_demo.html\r\n",
      "\u001b[34mdcn2017\u001b[m\u001b[m                               pmml_demo.ipynb\r\n",
      "\u001b[34mdin2017\u001b[m\u001b[m                               rl-01.ipynb\r\n",
      "dpg2014-paper.ipynb                   rl-algo-dp.ipynb\r\n",
      "explain-dnn-google-iclr2018.ipynb     rl.ipynb\r\n",
      "feature-tool.ipynb                    robust-pca.ipynb\r\n",
      "ffm.ipynb                             sr-2010.ipynb\r\n",
      "fft.ipynb                             \u001b[34mstatistic\u001b[m\u001b[m\r\n",
      "fmap.txt                              tree.dot\r\n",
      "intro-dt.ipynb                        xgb.bin\r\n",
      "intro-ml-2.html                       xgb.pmml.xml\r\n",
      "intro-ml-2.ipynb                      xgb.txt\r\n",
      "intro-ml.html                         无监督学习demo.html\r\n",
      "intro-ml.ipynb                        无监督学习demo.ipynb\r\n"
     ]
    }
   ],
   "source": [
    "!ls"
   ]
  },
  {
   "cell_type": "code",
   "execution_count": 2,
   "metadata": {
    "collapsed": true
   },
   "outputs": [],
   "source": [
    "from tensorflow.examples.tutorials.mnist import input_data"
   ]
  },
  {
   "cell_type": "code",
   "execution_count": 13,
   "metadata": {
    "collapsed": true
   },
   "outputs": [],
   "source": [
    "import numpy as np\n",
    "import matplotlib.pyplot as plt"
   ]
  },
  {
   "cell_type": "code",
   "execution_count": 3,
   "metadata": {
    "collapsed": false
   },
   "outputs": [
    {
     "name": "stdout",
     "output_type": "stream",
     "text": [
      "Extracting MNIST_data/train-images-idx3-ubyte.gz\n",
      "Extracting MNIST_data/train-labels-idx1-ubyte.gz\n",
      "Extracting MNIST_data/t10k-images-idx3-ubyte.gz\n",
      "Extracting MNIST_data/t10k-labels-idx1-ubyte.gz\n"
     ]
    }
   ],
   "source": [
    "mnist = input_data.read_data_sets(\"MNIST_data/\", one_hot=False)"
   ]
  },
  {
   "cell_type": "code",
   "execution_count": 18,
   "metadata": {
    "collapsed": true
   },
   "outputs": [],
   "source": [
    "def show_image(image):\n",
    "    return plt.imshow(image.reshape((28, 28)), cmap='gray')"
   ]
  },
  {
   "cell_type": "code",
   "execution_count": 20,
   "metadata": {
    "collapsed": false
   },
   "outputs": [
    {
     "data": {
      "text/plain": [
       "<matplotlib.image.AxesImage at 0x115105710>"
      ]
     },
     "execution_count": 20,
     "metadata": {},
     "output_type": "execute_result"
    },
    {
     "data": {
      "image/svg+xml": [
       "<?xml version=\"1.0\" encoding=\"utf-8\" standalone=\"no\"?>\n",
       "<!DOCTYPE svg PUBLIC \"-//W3C//DTD SVG 1.1//EN\"\n",
       "  \"http://www.w3.org/Graphics/SVG/1.1/DTD/svg11.dtd\">\n",
       "<!-- Created with matplotlib (http://matplotlib.org/) -->\n",
       "<svg height=\"252pt\" version=\"1.1\" viewBox=\"0 0 254 252\" width=\"254pt\" xmlns=\"http://www.w3.org/2000/svg\" xmlns:xlink=\"http://www.w3.org/1999/xlink\">\n",
       " <defs>\n",
       "  <style type=\"text/css\">\n",
       "*{stroke-linecap:butt;stroke-linejoin:round;}\n",
       "  </style>\n",
       " </defs>\n",
       " <g id=\"figure_1\">\n",
       "  <g id=\"patch_1\">\n",
       "   <path d=\"M 0 252.819687 \n",
       "L 254.068125 252.819687 \n",
       "L 254.068125 0 \n",
       "L 0 0 \n",
       "z\n",
       "\" style=\"fill:none;\"/>\n",
       "  </g>\n",
       "  <g id=\"axes_1\">\n",
       "   <g id=\"patch_2\">\n",
       "    <path d=\"M 25.928125 228.14 \n",
       "L 243.368125 228.14 \n",
       "L 243.368125 10.7 \n",
       "L 25.928125 10.7 \n",
       "z\n",
       "\" style=\"fill:#ffffff;\"/>\n",
       "   </g>\n",
       "   <g clip-path=\"url(#p3154929793)\">\n",
       "    <image height=\"217.44\" id=\"imagee1f1f9f4ab\" transform=\"scale(1 -1)translate(0 -217.44)\" width=\"217.44\" x=\"25.928125\" xlink:href=\"data:image/png;base64,\n",
       "iVBORw0KGgoAAAANSUhEUgAAAS4AAAEuCAYAAAAwQP9DAAAABHNCSVQICAgIfAhkiAAACHtJREFUeJzt3c2Ljn0fx/Fz7kQsJlImCynJiCLERmZjwobyMCkWslCUlSilrEiU5KEksiBsNFjYsKDIpNmQZ9nZmIWHhtCk5v4P7ut7Ts7O6zP367X+9DuPi6t3v4Wjo6PRaIw2AIL8p90PANAs4QLiCBcQR7iAOMIFxBEuII5wAXGEC4gjXEAc4QLiCBcQR7iAOMIFxBEuII5wAXGEC4gjXEAc4QLiCBcQR7iAOMIFxBEuII5wAXGEC4gjXEAc4QLiCBcQR7iAOMIFxBEuII5wAXEmtPsBaDS6urrK2yNHjvz13+/t7S1vh4aGytv+/v7y9sSJE+UtuHEBcYQLiCNcQBzhAuIIFxBHuIA4wgXEES4gjnABcYQLiNPRaDRG2/0QKVavXl3enjlzprydOnVqeTtz5szydnQ056/23bt35e3169dLu2ZeIxoZGSlvaT83LiCOcAFxhAuII1xAHOEC4ggXEEe4gDjCBcQRLiCOcAFxvPLThL1795a3p0+fbskzfP36tbx99OjRX//9devWlbcTJ04sbzs6Osrb6qtMT58+LZ+5a9eu8vbVq1flLa3hxgXEES4gjnABcYQLiCNcQBzhAuIIFxBHuIA4wgXEES4gjld+Go3G2rVrS7vbt2+35PfPnTtX3h49erS8/fbt21ge53+aPn16edvd3V3eVr/c02g0GrNmzSpvq16/fl3erlixorz99evXWB6Hf+DGBcQRLiCOcAFxhAuII1xAHOEC4ggXEEe4gDjCBcQRLiDOhHY/wL/B4sWLS7tJkyaVzzx58mR5e+DAgfK23T5//lzePnnypLxdtGhReXvz5s3Srre3t3zmwoULy9slS5aUt838GVDnxgXEES4gjnABcYQLiCNcQBzhAuIIFxBHuIA4wgXE8S/nmzA6Wv+uyObNm8vbCxculLcfPnwob5MMDw+Xtxs2bCjtbt26VT5zzZo15S3t58YFxBEuII5wAXGEC4gjXEAc4QLiCBcQR7iAOMIFxBEuII5XfhqNxvPnz0u7kZGR8pmzZ88ub58+fVrevnjxorw9duxYaffgwYPymc38GbRK9Rma+XNdvXp1efvnz5/yltZw4wLiCBcQR7iAOMIFxBEuII5wAXGEC4gjXEAc4QLiCBcQp6PRaNQ/XfN/rq+vr7y9cuVKeTtx4sTytqOjo7ytfpWomVdj7t69W96eP3++vP3y5Ut5u3Tp0tJucHCwfObbt2/L24ULF5a3tIYbFxBHuIA4wgXEES4gjnABcYQLiCNcQBzhAuIIFxBHuIA4XvlpkTlz5pS3ly9fLm97enrK2+orP63SzCs3Dx8+LG+3b99e2nV2dpbP3LJlS3l7//798pbWcOMC4ggXEEe4gDjCBcQRLiCOcAFxhAuII1xAHOEC4viX82FWrlxZ3m7btq2027Nnz1gf569pxUdA7ty5Uz5z48aN5S3t58YFxBEuII5wAXGEC4gjXEAc4QLiCBcQR7iAOMIFxBEuII5XfsaxBQsWlHYvXrxo8ZP8s1a88tOM3bt3l7cXL178679Pc9y4gDjCBcQRLiCOcAFxhAuII1xAHOEC4ggXEEe4gDjCBcTxys84NjAwUNqtWLGifObPnz/L22fPnpW3Hz58KG+3bNlS2k2ZMqV85sjISHl79uzZ8vbw4cOl3e/fv8tn4sYFBBIuII5wAXGEC4gjXEAc4QLiCBcQR7iAOMIFxBEuII5Xfsax169fl3bd3d3lM5ctW1beNvPKTzOWLl1a2g0ODrbk95tx79690q6vr6985o8fP8b6OOOGGxcQR7iAOMIFxBEuII5wAXGEC4gjXEAc4QLiCBcQR7iAOBPa/QBk6erqavcjlF8lWr58efnMq1evlrfz588vb9euXVva3bhxo3zm+vXry9vxyo0LiCNcQBzhAuIIFxBHuIA4wgXEES4gjnABcYQLiONjGePYmzdvSrtmPpbx/Pnz8nbdunXl7dDQUHnbClOmTClvt27dWt4ePHiwtJs2bVr5zBkzZpS345UbFxBHuIA4wgXEES4gjnABcYQLiCNcQBzhAuIIFxBHuIA4XvkZx3bs2FHaXb58uSW///79+/K2r6+vvH358uVYHqctLl26VNrt3LmzfOadO3fK202bNpW3Sdy4gDjCBcQRLiCOcAFxhAuII1xAHOEC4ggXEEe4gDjCBcSZ0O4HoHWuXbtW2i1YsKB85r59+8rbefPmlbcDAwPl7alTp0q7/v7+8pkfP34sb4eHh8vbSZMmlbdVc+fOLW8nT55c3v769Wssj9MWblxAHOEC4ggXEEe4gDjCBcQRLiCOcAFxhAuII1xAHOEC4vjKD005fvx4ebt///7ytqOjo7wdHW3v/7KPHj0qb3t6ekq7Zv6bPn36VN7Onz+/vP3+/Xt5225uXEAc4QLiCBcQR7iAOMIFxBEuII5wAXGEC4gjXEAc4QLi+MoPTTl06FB5OzIyUt7u3bu3vO3s7CxvW2HVqlVt/f379++Xt0mv8TTDjQuII1xAHOEC4ggXEEe4gDjCBcQRLiCOcAFxhAuI42MZ/CusXLmyvN29e3dpt3379rE+zl/z+PHj0q6/v7985pUrV8rbL1++lLdJ3LiAOMIFxBEuII5wAXGEC4gjXEAc4QLiCBcQR7iAOMIFxPHKDxDHjQuII1xAHOEC4ggXEEe4gDjCBcQRLiCOcAFxhAuII1xAHOEC4ggXEEe4gDjCBcQRLiCOcAFxhAuII1xAHOEC4ggXEEe4gDjCBcQRLiCOcAFxhAuII1xAHOEC4ggXEEe4gDjCBcQRLiCOcAFxhAuII1xAHOEC4ggXEEe4gDjCBcQRLiCOcAFxhAuII1xAHOEC4ggXEEe4gDjCBcQRLiCOcAFxhAuII1xAHOEC4ggXEEe4gDj/BRRBQV4Za/NzAAAAAElFTkSuQmCC\" y=\"-10.7\"/>\n",
       "   </g>\n",
       "   <g id=\"matplotlib.axis_1\">\n",
       "    <g id=\"xtick_1\">\n",
       "     <g id=\"line2d_1\">\n",
       "      <defs>\n",
       "       <path d=\"M 0 0 \n",
       "L 0 3.5 \n",
       "\" id=\"m0733cea929\" style=\"stroke:#000000;stroke-width:0.8;\"/>\n",
       "      </defs>\n",
       "      <g>\n",
       "       <use style=\"stroke:#000000;stroke-width:0.8;\" x=\"29.810982\" xlink:href=\"#m0733cea929\" y=\"228.14\"/>\n",
       "      </g>\n",
       "     </g>\n",
       "     <g id=\"text_1\">\n",
       "      <!-- 0 -->\n",
       "      <defs>\n",
       "       <path d=\"M 4.4375 36.328125 \n",
       "Q 4.4375 56.34375 11.078125 66.625 \n",
       "Q 17.71875 76.90625 30.328125 76.90625 \n",
       "Q 54.34375 76.90625 54.34375 38.140625 \n",
       "Q 54.34375 19 47.578125 8.859375 \n",
       "Q 40.828125 -1.265625 28.609375 -1.265625 \n",
       "Q 17.09375 -1.265625 10.765625 8.34375 \n",
       "Q 4.4375 17.96875 4.4375 36.328125 \n",
       "z\n",
       "M 14.203125 36.765625 \n",
       "Q 14.203125 6.640625 29.5 6.640625 \n",
       "Q 44.53125 6.640625 44.53125 37.25 \n",
       "Q 44.53125 68.953125 29.78125 68.953125 \n",
       "Q 14.203125 68.953125 14.203125 36.765625 \n",
       "z\n",
       "\" id=\"MicrosoftYaHei-30\"/>\n",
       "      </defs>\n",
       "      <g transform=\"translate(26.878951 243.13375)scale(0.1 -0.1)\">\n",
       "       <use xlink:href=\"#MicrosoftYaHei-30\"/>\n",
       "      </g>\n",
       "     </g>\n",
       "    </g>\n",
       "    <g id=\"xtick_2\">\n",
       "     <g id=\"line2d_2\">\n",
       "      <g>\n",
       "       <use style=\"stroke:#000000;stroke-width:0.8;\" x=\"68.639554\" xlink:href=\"#m0733cea929\" y=\"228.14\"/>\n",
       "      </g>\n",
       "     </g>\n",
       "     <g id=\"text_2\">\n",
       "      <!-- 5 -->\n",
       "      <defs>\n",
       "       <path d=\"M 8.640625 11.625 \n",
       "Q 16.265625 6.640625 24.515625 6.640625 \n",
       "Q 32.328125 6.640625 37.109375 11 \n",
       "Q 41.890625 15.375 41.890625 22.609375 \n",
       "Q 41.890625 29.890625 37.03125 33.890625 \n",
       "Q 32.171875 37.890625 22.953125 37.890625 \n",
       "Q 18.5 37.890625 10.984375 37.203125 \n",
       "L 10.984375 75.640625 \n",
       "L 48.1875 75.640625 \n",
       "L 48.1875 67.1875 \n",
       "L 19.875 67.1875 \n",
       "L 19.875 45.796875 \n",
       "Q 24.125 46.046875 26.265625 46.046875 \n",
       "Q 38.234375 46.046875 44.921875 39.984375 \n",
       "Q 51.609375 33.9375 51.609375 23.296875 \n",
       "Q 51.609375 12.3125 44.421875 5.515625 \n",
       "Q 37.25 -1.265625 24.609375 -1.265625 \n",
       "Q 14.015625 -1.265625 8.640625 1.859375 \n",
       "z\n",
       "\" id=\"MicrosoftYaHei-35\"/>\n",
       "      </defs>\n",
       "      <g transform=\"translate(65.707522 243.13375)scale(0.1 -0.1)\">\n",
       "       <use xlink:href=\"#MicrosoftYaHei-35\"/>\n",
       "      </g>\n",
       "     </g>\n",
       "    </g>\n",
       "    <g id=\"xtick_3\">\n",
       "     <g id=\"line2d_3\">\n",
       "      <g>\n",
       "       <use style=\"stroke:#000000;stroke-width:0.8;\" x=\"107.468125\" xlink:href=\"#m0733cea929\" y=\"228.14\"/>\n",
       "      </g>\n",
       "     </g>\n",
       "     <g id=\"text_3\">\n",
       "      <!-- 10 -->\n",
       "      <defs>\n",
       "       <path d=\"M 52.59375 0 \n",
       "L 9.234375 0 \n",
       "L 9.234375 8.25 \n",
       "L 26.171875 8.25 \n",
       "L 26.171875 65.671875 \n",
       "L 8.796875 60.640625 \n",
       "L 8.796875 69.4375 \n",
       "L 35.6875 77.25 \n",
       "L 35.6875 8.25 \n",
       "L 52.59375 8.25 \n",
       "z\n",
       "\" id=\"MicrosoftYaHei-31\"/>\n",
       "      </defs>\n",
       "      <g transform=\"translate(101.604063 243.13375)scale(0.1 -0.1)\">\n",
       "       <use xlink:href=\"#MicrosoftYaHei-31\"/>\n",
       "       <use x=\"58.642578\" xlink:href=\"#MicrosoftYaHei-30\"/>\n",
       "      </g>\n",
       "     </g>\n",
       "    </g>\n",
       "    <g id=\"xtick_4\">\n",
       "     <g id=\"line2d_4\">\n",
       "      <g>\n",
       "       <use style=\"stroke:#000000;stroke-width:0.8;\" x=\"146.296696\" xlink:href=\"#m0733cea929\" y=\"228.14\"/>\n",
       "      </g>\n",
       "     </g>\n",
       "     <g id=\"text_4\">\n",
       "      <!-- 15 -->\n",
       "      <g transform=\"translate(140.432634 243.13375)scale(0.1 -0.1)\">\n",
       "       <use xlink:href=\"#MicrosoftYaHei-31\"/>\n",
       "       <use x=\"58.642578\" xlink:href=\"#MicrosoftYaHei-35\"/>\n",
       "      </g>\n",
       "     </g>\n",
       "    </g>\n",
       "    <g id=\"xtick_5\">\n",
       "     <g id=\"line2d_5\">\n",
       "      <g>\n",
       "       <use style=\"stroke:#000000;stroke-width:0.8;\" x=\"185.125268\" xlink:href=\"#m0733cea929\" y=\"228.14\"/>\n",
       "      </g>\n",
       "     </g>\n",
       "     <g id=\"text_5\">\n",
       "      <!-- 20 -->\n",
       "      <defs>\n",
       "       <path d=\"M 51.171875 0 \n",
       "L 5.171875 0 \n",
       "L 5.171875 8.296875 \n",
       "L 27.15625 30.21875 \n",
       "Q 36.234375 39.3125 39.3125 44.609375 \n",
       "Q 42.390625 49.90625 42.390625 55.5625 \n",
       "Q 42.390625 62.015625 38.765625 65.453125 \n",
       "Q 35.15625 68.890625 28.328125 68.890625 \n",
       "Q 18.21875 68.890625 9.03125 60.296875 \n",
       "L 9.03125 70.015625 \n",
       "Q 17.96875 76.90625 29.828125 76.90625 \n",
       "Q 40.046875 76.90625 45.953125 71.390625 \n",
       "Q 51.859375 65.875 51.859375 56.546875 \n",
       "Q 51.859375 49.515625 48.0625 42.75 \n",
       "Q 44.28125 35.984375 33.734375 25.53125 \n",
       "L 16.5 8.6875 \n",
       "L 16.5 8.5 \n",
       "L 51.171875 8.5 \n",
       "z\n",
       "\" id=\"MicrosoftYaHei-32\"/>\n",
       "      </defs>\n",
       "      <g transform=\"translate(179.261205 243.13375)scale(0.1 -0.1)\">\n",
       "       <use xlink:href=\"#MicrosoftYaHei-32\"/>\n",
       "       <use x=\"58.642578\" xlink:href=\"#MicrosoftYaHei-30\"/>\n",
       "      </g>\n",
       "     </g>\n",
       "    </g>\n",
       "    <g id=\"xtick_6\">\n",
       "     <g id=\"line2d_6\">\n",
       "      <g>\n",
       "       <use style=\"stroke:#000000;stroke-width:0.8;\" x=\"223.953839\" xlink:href=\"#m0733cea929\" y=\"228.14\"/>\n",
       "      </g>\n",
       "     </g>\n",
       "     <g id=\"text_6\">\n",
       "      <!-- 25 -->\n",
       "      <g transform=\"translate(218.089777 243.13375)scale(0.1 -0.1)\">\n",
       "       <use xlink:href=\"#MicrosoftYaHei-32\"/>\n",
       "       <use x=\"58.642578\" xlink:href=\"#MicrosoftYaHei-35\"/>\n",
       "      </g>\n",
       "     </g>\n",
       "    </g>\n",
       "   </g>\n",
       "   <g id=\"matplotlib.axis_2\">\n",
       "    <g id=\"ytick_1\">\n",
       "     <g id=\"line2d_7\">\n",
       "      <defs>\n",
       "       <path d=\"M 0 0 \n",
       "L -3.5 0 \n",
       "\" id=\"m9c826ed924\" style=\"stroke:#000000;stroke-width:0.8;\"/>\n",
       "      </defs>\n",
       "      <g>\n",
       "       <use style=\"stroke:#000000;stroke-width:0.8;\" x=\"25.928125\" xlink:href=\"#m9c826ed924\" y=\"14.582857\"/>\n",
       "      </g>\n",
       "     </g>\n",
       "     <g id=\"text_7\">\n",
       "      <!-- 0 -->\n",
       "      <g transform=\"translate(13.064063 18.579732)scale(0.1 -0.1)\">\n",
       "       <use xlink:href=\"#MicrosoftYaHei-30\"/>\n",
       "      </g>\n",
       "     </g>\n",
       "    </g>\n",
       "    <g id=\"ytick_2\">\n",
       "     <g id=\"line2d_8\">\n",
       "      <g>\n",
       "       <use style=\"stroke:#000000;stroke-width:0.8;\" x=\"25.928125\" xlink:href=\"#m9c826ed924\" y=\"53.411429\"/>\n",
       "      </g>\n",
       "     </g>\n",
       "     <g id=\"text_8\">\n",
       "      <!-- 5 -->\n",
       "      <g transform=\"translate(13.064063 57.408304)scale(0.1 -0.1)\">\n",
       "       <use xlink:href=\"#MicrosoftYaHei-35\"/>\n",
       "      </g>\n",
       "     </g>\n",
       "    </g>\n",
       "    <g id=\"ytick_3\">\n",
       "     <g id=\"line2d_9\">\n",
       "      <g>\n",
       "       <use style=\"stroke:#000000;stroke-width:0.8;\" x=\"25.928125\" xlink:href=\"#m9c826ed924\" y=\"92.24\"/>\n",
       "      </g>\n",
       "     </g>\n",
       "     <g id=\"text_9\">\n",
       "      <!-- 10 -->\n",
       "      <g transform=\"translate(7.2 96.236875)scale(0.1 -0.1)\">\n",
       "       <use xlink:href=\"#MicrosoftYaHei-31\"/>\n",
       "       <use x=\"58.642578\" xlink:href=\"#MicrosoftYaHei-30\"/>\n",
       "      </g>\n",
       "     </g>\n",
       "    </g>\n",
       "    <g id=\"ytick_4\">\n",
       "     <g id=\"line2d_10\">\n",
       "      <g>\n",
       "       <use style=\"stroke:#000000;stroke-width:0.8;\" x=\"25.928125\" xlink:href=\"#m9c826ed924\" y=\"131.068571\"/>\n",
       "      </g>\n",
       "     </g>\n",
       "     <g id=\"text_10\">\n",
       "      <!-- 15 -->\n",
       "      <g transform=\"translate(7.2 135.065446)scale(0.1 -0.1)\">\n",
       "       <use xlink:href=\"#MicrosoftYaHei-31\"/>\n",
       "       <use x=\"58.642578\" xlink:href=\"#MicrosoftYaHei-35\"/>\n",
       "      </g>\n",
       "     </g>\n",
       "    </g>\n",
       "    <g id=\"ytick_5\">\n",
       "     <g id=\"line2d_11\">\n",
       "      <g>\n",
       "       <use style=\"stroke:#000000;stroke-width:0.8;\" x=\"25.928125\" xlink:href=\"#m9c826ed924\" y=\"169.897143\"/>\n",
       "      </g>\n",
       "     </g>\n",
       "     <g id=\"text_11\">\n",
       "      <!-- 20 -->\n",
       "      <g transform=\"translate(7.2 173.894018)scale(0.1 -0.1)\">\n",
       "       <use xlink:href=\"#MicrosoftYaHei-32\"/>\n",
       "       <use x=\"58.642578\" xlink:href=\"#MicrosoftYaHei-30\"/>\n",
       "      </g>\n",
       "     </g>\n",
       "    </g>\n",
       "    <g id=\"ytick_6\">\n",
       "     <g id=\"line2d_12\">\n",
       "      <g>\n",
       "       <use style=\"stroke:#000000;stroke-width:0.8;\" x=\"25.928125\" xlink:href=\"#m9c826ed924\" y=\"208.725714\"/>\n",
       "      </g>\n",
       "     </g>\n",
       "     <g id=\"text_12\">\n",
       "      <!-- 25 -->\n",
       "      <g transform=\"translate(7.2 212.722589)scale(0.1 -0.1)\">\n",
       "       <use xlink:href=\"#MicrosoftYaHei-32\"/>\n",
       "       <use x=\"58.642578\" xlink:href=\"#MicrosoftYaHei-35\"/>\n",
       "      </g>\n",
       "     </g>\n",
       "    </g>\n",
       "   </g>\n",
       "   <g id=\"patch_3\">\n",
       "    <path d=\"M 25.928125 228.14 \n",
       "L 25.928125 10.7 \n",
       "\" style=\"fill:none;stroke:#000000;stroke-linecap:square;stroke-linejoin:miter;stroke-width:0.8;\"/>\n",
       "   </g>\n",
       "   <g id=\"patch_4\">\n",
       "    <path d=\"M 243.368125 228.14 \n",
       "L 243.368125 10.7 \n",
       "\" style=\"fill:none;stroke:#000000;stroke-linecap:square;stroke-linejoin:miter;stroke-width:0.8;\"/>\n",
       "   </g>\n",
       "   <g id=\"patch_5\">\n",
       "    <path d=\"M 25.928125 228.14 \n",
       "L 243.368125 228.14 \n",
       "\" style=\"fill:none;stroke:#000000;stroke-linecap:square;stroke-linejoin:miter;stroke-width:0.8;\"/>\n",
       "   </g>\n",
       "   <g id=\"patch_6\">\n",
       "    <path d=\"M 25.928125 10.7 \n",
       "L 243.368125 10.7 \n",
       "\" style=\"fill:none;stroke:#000000;stroke-linecap:square;stroke-linejoin:miter;stroke-width:0.8;\"/>\n",
       "   </g>\n",
       "  </g>\n",
       " </g>\n",
       " <defs>\n",
       "  <clipPath id=\"p3154929793\">\n",
       "   <rect height=\"217.44\" width=\"217.44\" x=\"25.928125\" y=\"10.7\"/>\n",
       "  </clipPath>\n",
       " </defs>\n",
       "</svg>\n"
      ],
      "text/plain": [
       "<matplotlib.figure.Figure at 0x11506e990>"
      ]
     },
     "metadata": {},
     "output_type": "display_data"
    }
   ],
   "source": [
    "show_image(mnist.train.images[5, :])"
   ]
  },
  {
   "cell_type": "code",
   "execution_count": 21,
   "metadata": {
    "collapsed": true
   },
   "outputs": [],
   "source": [
    "from PIL import Image"
   ]
  },
  {
   "cell_type": "code",
   "execution_count": 39,
   "metadata": {
    "collapsed": false
   },
   "outputs": [],
   "source": [
    "im = Image.fromarray(mnist.train.images[5, :].reshape((28,28))*255, 'L')"
   ]
  },
  {
   "cell_type": "code",
   "execution_count": 40,
   "metadata": {
    "collapsed": false
   },
   "outputs": [],
   "source": [
    "im_sub = im.resize((14, 14))"
   ]
  },
  {
   "cell_type": "code",
   "execution_count": 43,
   "metadata": {
    "collapsed": false
   },
   "outputs": [],
   "source": [
    "im.show()"
   ]
  },
  {
   "cell_type": "code",
   "execution_count": null,
   "metadata": {
    "collapsed": true
   },
   "outputs": [],
   "source": []
  }
 ],
 "metadata": {
  "kernelspec": {
   "display_name": "Python 2",
   "language": "python",
   "name": "python2"
  },
  "language_info": {
   "codemirror_mode": {
    "name": "ipython",
    "version": 2
   },
   "file_extension": ".py",
   "mimetype": "text/x-python",
   "name": "python",
   "nbconvert_exporter": "python",
   "pygments_lexer": "ipython2",
   "version": "2.7.10"
  }
 },
 "nbformat": 4,
 "nbformat_minor": 0
}
