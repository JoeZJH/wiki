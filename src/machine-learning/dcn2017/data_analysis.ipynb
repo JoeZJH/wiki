{
 "cells": [
  {
   "cell_type": "code",
   "execution_count": 1,
   "metadata": {
    "collapsed": true
   },
   "outputs": [],
   "source": [
    "import pandas as pd"
   ]
  },
  {
   "cell_type": "code",
   "execution_count": 4,
   "metadata": {
    "collapsed": true
   },
   "outputs": [],
   "source": [
    "df = pd.read_csv('covtype.data', header=None)"
   ]
  },
  {
   "cell_type": "code",
   "execution_count": 5,
   "metadata": {
    "collapsed": false
   },
   "outputs": [
    {
     "data": {
      "text/html": [
       "<div>\n",
       "<style>\n",
       "    .dataframe thead tr:only-child th {\n",
       "        text-align: right;\n",
       "    }\n",
       "\n",
       "    .dataframe thead th {\n",
       "        text-align: left;\n",
       "    }\n",
       "\n",
       "    .dataframe tbody tr th {\n",
       "        vertical-align: top;\n",
       "    }\n",
       "</style>\n",
       "<table border=\"1\" class=\"dataframe\">\n",
       "  <thead>\n",
       "    <tr style=\"text-align: right;\">\n",
       "      <th></th>\n",
       "      <th>0</th>\n",
       "      <th>1</th>\n",
       "      <th>2</th>\n",
       "      <th>3</th>\n",
       "      <th>4</th>\n",
       "      <th>5</th>\n",
       "      <th>6</th>\n",
       "      <th>7</th>\n",
       "      <th>8</th>\n",
       "      <th>9</th>\n",
       "      <th>...</th>\n",
       "      <th>45</th>\n",
       "      <th>46</th>\n",
       "      <th>47</th>\n",
       "      <th>48</th>\n",
       "      <th>49</th>\n",
       "      <th>50</th>\n",
       "      <th>51</th>\n",
       "      <th>52</th>\n",
       "      <th>53</th>\n",
       "      <th>54</th>\n",
       "    </tr>\n",
       "  </thead>\n",
       "  <tbody>\n",
       "    <tr>\n",
       "      <th>0</th>\n",
       "      <td>2596</td>\n",
       "      <td>51</td>\n",
       "      <td>3</td>\n",
       "      <td>258</td>\n",
       "      <td>0</td>\n",
       "      <td>510</td>\n",
       "      <td>221</td>\n",
       "      <td>232</td>\n",
       "      <td>148</td>\n",
       "      <td>6279</td>\n",
       "      <td>...</td>\n",
       "      <td>0</td>\n",
       "      <td>0</td>\n",
       "      <td>0</td>\n",
       "      <td>0</td>\n",
       "      <td>0</td>\n",
       "      <td>0</td>\n",
       "      <td>0</td>\n",
       "      <td>0</td>\n",
       "      <td>0</td>\n",
       "      <td>5</td>\n",
       "    </tr>\n",
       "    <tr>\n",
       "      <th>1</th>\n",
       "      <td>2590</td>\n",
       "      <td>56</td>\n",
       "      <td>2</td>\n",
       "      <td>212</td>\n",
       "      <td>-6</td>\n",
       "      <td>390</td>\n",
       "      <td>220</td>\n",
       "      <td>235</td>\n",
       "      <td>151</td>\n",
       "      <td>6225</td>\n",
       "      <td>...</td>\n",
       "      <td>0</td>\n",
       "      <td>0</td>\n",
       "      <td>0</td>\n",
       "      <td>0</td>\n",
       "      <td>0</td>\n",
       "      <td>0</td>\n",
       "      <td>0</td>\n",
       "      <td>0</td>\n",
       "      <td>0</td>\n",
       "      <td>5</td>\n",
       "    </tr>\n",
       "    <tr>\n",
       "      <th>2</th>\n",
       "      <td>2804</td>\n",
       "      <td>139</td>\n",
       "      <td>9</td>\n",
       "      <td>268</td>\n",
       "      <td>65</td>\n",
       "      <td>3180</td>\n",
       "      <td>234</td>\n",
       "      <td>238</td>\n",
       "      <td>135</td>\n",
       "      <td>6121</td>\n",
       "      <td>...</td>\n",
       "      <td>0</td>\n",
       "      <td>0</td>\n",
       "      <td>0</td>\n",
       "      <td>0</td>\n",
       "      <td>0</td>\n",
       "      <td>0</td>\n",
       "      <td>0</td>\n",
       "      <td>0</td>\n",
       "      <td>0</td>\n",
       "      <td>2</td>\n",
       "    </tr>\n",
       "    <tr>\n",
       "      <th>3</th>\n",
       "      <td>2785</td>\n",
       "      <td>155</td>\n",
       "      <td>18</td>\n",
       "      <td>242</td>\n",
       "      <td>118</td>\n",
       "      <td>3090</td>\n",
       "      <td>238</td>\n",
       "      <td>238</td>\n",
       "      <td>122</td>\n",
       "      <td>6211</td>\n",
       "      <td>...</td>\n",
       "      <td>0</td>\n",
       "      <td>0</td>\n",
       "      <td>0</td>\n",
       "      <td>0</td>\n",
       "      <td>0</td>\n",
       "      <td>0</td>\n",
       "      <td>0</td>\n",
       "      <td>0</td>\n",
       "      <td>0</td>\n",
       "      <td>2</td>\n",
       "    </tr>\n",
       "    <tr>\n",
       "      <th>4</th>\n",
       "      <td>2595</td>\n",
       "      <td>45</td>\n",
       "      <td>2</td>\n",
       "      <td>153</td>\n",
       "      <td>-1</td>\n",
       "      <td>391</td>\n",
       "      <td>220</td>\n",
       "      <td>234</td>\n",
       "      <td>150</td>\n",
       "      <td>6172</td>\n",
       "      <td>...</td>\n",
       "      <td>0</td>\n",
       "      <td>0</td>\n",
       "      <td>0</td>\n",
       "      <td>0</td>\n",
       "      <td>0</td>\n",
       "      <td>0</td>\n",
       "      <td>0</td>\n",
       "      <td>0</td>\n",
       "      <td>0</td>\n",
       "      <td>5</td>\n",
       "    </tr>\n",
       "  </tbody>\n",
       "</table>\n",
       "<p>5 rows × 55 columns</p>\n",
       "</div>"
      ],
      "text/plain": [
       "     0    1   2    3    4     5    6    7    8     9  ...  45  46  47  48  49  \\\n",
       "0  2596   51   3  258    0   510  221  232  148  6279 ...   0   0   0   0   0   \n",
       "1  2590   56   2  212   -6   390  220  235  151  6225 ...   0   0   0   0   0   \n",
       "2  2804  139   9  268   65  3180  234  238  135  6121 ...   0   0   0   0   0   \n",
       "3  2785  155  18  242  118  3090  238  238  122  6211 ...   0   0   0   0   0   \n",
       "4  2595   45   2  153   -1   391  220  234  150  6172 ...   0   0   0   0   0   \n",
       "\n",
       "   50  51  52  53  54  \n",
       "0   0   0   0   0   5  \n",
       "1   0   0   0   0   5  \n",
       "2   0   0   0   0   2  \n",
       "3   0   0   0   0   2  \n",
       "4   0   0   0   0   5  \n",
       "\n",
       "[5 rows x 55 columns]"
      ]
     },
     "execution_count": 5,
     "metadata": {},
     "output_type": "execute_result"
    }
   ],
   "source": [
    "df.head()"
   ]
  },
  {
   "cell_type": "code",
   "execution_count": 7,
   "metadata": {
    "collapsed": false
   },
   "outputs": [
    {
     "data": {
      "text/plain": [
       "array([5, 2, 1, 7, 3, 6, 4])"
      ]
     },
     "execution_count": 7,
     "metadata": {},
     "output_type": "execute_result"
    }
   ],
   "source": [
    "df[54].unique()"
   ]
  },
  {
   "cell_type": "code",
   "execution_count": 8,
   "metadata": {
    "collapsed": false
   },
   "outputs": [
    {
     "name": "stderr",
     "output_type": "stream",
     "text": [
      "Using TensorFlow backend.\n"
     ]
    }
   ],
   "source": [
    "from keras import backend as K\n",
    "from keras.engine.topology import Layer\n",
    "import numpy as np"
   ]
  },
  {
   "cell_type": "code",
   "execution_count": 15,
   "metadata": {
    "collapsed": true
   },
   "outputs": [],
   "source": [
    "class CrossLayer(Layer):\n",
    "    def __init__(self, layer_num=1, bais=False, res_connect=False, **kwargs):\n",
    "        self.layer_num = layer_num\n",
    "        self.bais = bais\n",
    "        self.res_connect = res_connect\n",
    "        super(CrossLayer, self).__init__(**kwargs)\n",
    "    \n",
    "    def build(self, input_shape):\n",
    "        self.ws = []\n",
    "        if self.bais:\n",
    "            self.bs = []\n",
    "        for i in range(self.layer_num):\n",
    "            self.ws.append(self.add_weight(name='cross_w_%d' % i,\n",
    "                                          shape=(input_shape[1],1),\n",
    "                                          initializer='uniform',\n",
    "                                          trainable=True))\n",
    "            if self.bais:\n",
    "                self.bs.append(self.add_weight(name='cross_b_%d' % i,\n",
    "                                          shape=(input_shape[1],1),\n",
    "                                          initializer='uniform',\n",
    "                                          trainable=True))\n",
    "        super(CrossLayer, self).build(input_shape)\n",
    "    \n",
    "    def call(self, x):\n",
    "        xs = [x]\n",
    "        for i in range(self.layer_num):\n",
    "            out = K.dot(xs[i], self.ws[i]) * x\n",
    "            if self.bais:\n",
    "                out += self.bs[i]\n",
    "            if self.res_connect:\n",
    "                out += xs[i]\n",
    "            xs.append(out)\n",
    "        return xs[-1]\n",
    "    \n",
    "    def compute_output_shape(self, input_shape):\n",
    "        return input_shape"
   ]
  },
  {
   "cell_type": "code",
   "execution_count": 47,
   "metadata": {
    "collapsed": true
   },
   "outputs": [],
   "source": [
    "from keras.layers import InputLayer, Dense\n",
    "from keras.models import Sequential"
   ]
  },
  {
   "cell_type": "code",
   "execution_count": 53,
   "metadata": {
    "collapsed": false
   },
   "outputs": [],
   "source": [
    "model = Sequential([\n",
    "        CrossLayer(layer_num=4, input_shape=(32,) ),\n",
    "        Dense(1)\n",
    "    ])"
   ]
  },
  {
   "cell_type": "code",
   "execution_count": 54,
   "metadata": {
    "collapsed": false
   },
   "outputs": [],
   "source": [
    "x = np.random.randn(100000, 32)\n",
    "y = np.sum(np.exp(0.1*x), axis=1)"
   ]
  },
  {
   "cell_type": "code",
   "execution_count": 57,
   "metadata": {
    "collapsed": false
   },
   "outputs": [],
   "source": [
    "model.compile(optimizer='adam', loss='mse', metrics=['mse'])"
   ]
  },
  {
   "cell_type": "code",
   "execution_count": 51,
   "metadata": {
    "collapsed": false
   },
   "outputs": [],
   "source": [
    "import keras\n",
    "tfcb = keras.callbacks.TensorBoard(log_dir='./logs', histogram_freq=0, batch_size=32, write_graph=True, write_grads=False, write_images=False, embeddings_freq=0, embeddings_layer_names=None, embeddings_metadata=None)"
   ]
  },
  {
   "cell_type": "code",
   "execution_count": 58,
   "metadata": {
    "collapsed": false,
    "scrolled": false
   },
   "outputs": [
    {
     "name": "stdout",
     "output_type": "stream",
     "text": [
      "Train on 80000 samples, validate on 20000 samples\n",
      "Epoch 1/50\n",
      "80000/80000 [==============================] - 3s - loss: 0.2588 - mean_squared_error: 0.2588 - val_loss: 0.2639 - val_mean_squared_error: 0.2639\n",
      "Epoch 2/50\n",
      "80000/80000 [==============================] - 3s - loss: 0.2595 - mean_squared_error: 0.2595 - val_loss: 0.2638 - val_mean_squared_error: 0.2638\n",
      "Epoch 3/50\n",
      "80000/80000 [==============================] - 3s - loss: 0.2593 - mean_squared_error: 0.2593 - val_loss: 0.2654 - val_mean_squared_error: 0.2654\n",
      "Epoch 4/50\n",
      "80000/80000 [==============================] - 3s - loss: 0.2562 - mean_squared_error: 0.2562 - val_loss: 0.2591 - val_mean_squared_error: 0.2591\n",
      "Epoch 5/50\n",
      "80000/80000 [==============================] - 3s - loss: 0.2612 - mean_squared_error: 0.2612 - val_loss: 0.2645 - val_mean_squared_error: 0.2645\n",
      "Epoch 6/50\n",
      "80000/80000 [==============================] - 3s - loss: 0.2572 - mean_squared_error: 0.2572 - val_loss: 0.2528 - val_mean_squared_error: 0.2528\n",
      "Epoch 7/50\n",
      "80000/80000 [==============================] - 3s - loss: 0.2584 - mean_squared_error: 0.2584 - val_loss: 0.2626 - val_mean_squared_error: 0.2626\n",
      "Epoch 8/50\n",
      "80000/80000 [==============================] - 3s - loss: 0.2584 - mean_squared_error: 0.2584 - val_loss: 0.2682 - val_mean_squared_error: 0.2682\n",
      "Epoch 9/50\n",
      "80000/80000 [==============================] - 3s - loss: 0.2573 - mean_squared_error: 0.2573 - val_loss: 0.2586 - val_mean_squared_error: 0.2586\n",
      "Epoch 10/50\n",
      "80000/80000 [==============================] - 3s - loss: 0.2667 - mean_squared_error: 0.2667 - val_loss: 0.2560 - val_mean_squared_error: 0.2560\n",
      "Epoch 11/50\n",
      "80000/80000 [==============================] - 3s - loss: 0.2571 - mean_squared_error: 0.2571 - val_loss: 0.2627 - val_mean_squared_error: 0.2627\n",
      "Epoch 12/50\n",
      "80000/80000 [==============================] - 3s - loss: 0.2563 - mean_squared_error: 0.2563 - val_loss: 0.2628 - val_mean_squared_error: 0.2628\n",
      "Epoch 13/50\n",
      "80000/80000 [==============================] - 3s - loss: 0.2604 - mean_squared_error: 0.2604 - val_loss: 0.2619 - val_mean_squared_error: 0.2619\n",
      "Epoch 14/50\n",
      "80000/80000 [==============================] - 3s - loss: 0.2589 - mean_squared_error: 0.2589 - val_loss: 0.2668 - val_mean_squared_error: 0.2668\n",
      "Epoch 15/50\n",
      "80000/80000 [==============================] - 3s - loss: 0.2585 - mean_squared_error: 0.2585 - val_loss: 0.2627 - val_mean_squared_error: 0.2627\n",
      "Epoch 16/50\n",
      "80000/80000 [==============================] - 3s - loss: 0.2580 - mean_squared_error: 0.2580 - val_loss: 0.2662 - val_mean_squared_error: 0.2662\n",
      "Epoch 17/50\n",
      "80000/80000 [==============================] - 3s - loss: 0.2643 - mean_squared_error: 0.2643 - val_loss: 0.2590 - val_mean_squared_error: 0.2590\n",
      "Epoch 18/50\n",
      "80000/80000 [==============================] - 3s - loss: 0.2552 - mean_squared_error: 0.2552 - val_loss: 0.2573 - val_mean_squared_error: 0.2573\n",
      "Epoch 19/50\n",
      "80000/80000 [==============================] - 3s - loss: 0.2578 - mean_squared_error: 0.2578 - val_loss: 0.2688 - val_mean_squared_error: 0.2688\n",
      "Epoch 20/50\n",
      "80000/80000 [==============================] - 3s - loss: 0.2603 - mean_squared_error: 0.2603 - val_loss: 0.2572 - val_mean_squared_error: 0.2572\n",
      "Epoch 21/50\n",
      "80000/80000 [==============================] - 3s - loss: 0.2581 - mean_squared_error: 0.2581 - val_loss: 0.2591 - val_mean_squared_error: 0.2591\n",
      "Epoch 22/50\n",
      "80000/80000 [==============================] - 3s - loss: 0.2564 - mean_squared_error: 0.2564 - val_loss: 0.2655 - val_mean_squared_error: 0.2655\n",
      "Epoch 23/50\n",
      "80000/80000 [==============================] - 3s - loss: 0.2573 - mean_squared_error: 0.2573 - val_loss: 0.2590 - val_mean_squared_error: 0.2590\n",
      "Epoch 24/50\n",
      "80000/80000 [==============================] - 3s - loss: 0.2600 - mean_squared_error: 0.2600 - val_loss: 0.2630 - val_mean_squared_error: 0.2630\n",
      "Epoch 25/50\n",
      "80000/80000 [==============================] - 3s - loss: 0.2549 - mean_squared_error: 0.2549 - val_loss: 0.2651 - val_mean_squared_error: 0.2651\n",
      "Epoch 26/50\n",
      "80000/80000 [==============================] - 3s - loss: 0.2589 - mean_squared_error: 0.2589 - val_loss: 0.2610 - val_mean_squared_error: 0.2610\n",
      "Epoch 27/50\n",
      "80000/80000 [==============================] - 3s - loss: 0.2577 - mean_squared_error: 0.2577 - val_loss: 0.2604 - val_mean_squared_error: 0.2604\n",
      "Epoch 28/50\n",
      "80000/80000 [==============================] - 3s - loss: 0.2578 - mean_squared_error: 0.2578 - val_loss: 0.2573 - val_mean_squared_error: 0.2573\n",
      "Epoch 29/50\n",
      "80000/80000 [==============================] - 3s - loss: 0.2584 - mean_squared_error: 0.2584 - val_loss: 0.2608 - val_mean_squared_error: 0.2608\n",
      "Epoch 30/50\n",
      "80000/80000 [==============================] - 3s - loss: 0.2575 - mean_squared_error: 0.2575 - val_loss: 0.2595 - val_mean_squared_error: 0.2595\n",
      "Epoch 31/50\n",
      "80000/80000 [==============================] - 3s - loss: 0.2580 - mean_squared_error: 0.2580 - val_loss: 0.2623 - val_mean_squared_error: 0.2623\n",
      "Epoch 32/50\n",
      "80000/80000 [==============================] - 3s - loss: 0.2609 - mean_squared_error: 0.2609 - val_loss: 0.2684 - val_mean_squared_error: 0.2684\n",
      "Epoch 33/50\n",
      "80000/80000 [==============================] - 3s - loss: 0.2574 - mean_squared_error: 0.2574 - val_loss: 0.2616 - val_mean_squared_error: 0.2616\n",
      "Epoch 34/50\n",
      "80000/80000 [==============================] - 3s - loss: 0.2575 - mean_squared_error: 0.2575 - val_loss: 0.2640 - val_mean_squared_error: 0.2640\n",
      "Epoch 35/50\n",
      "80000/80000 [==============================] - 3s - loss: 0.2569 - mean_squared_error: 0.2569 - val_loss: 0.2640 - val_mean_squared_error: 0.2640\n",
      "Epoch 36/50\n",
      "80000/80000 [==============================] - 3s - loss: 0.2573 - mean_squared_error: 0.2573 - val_loss: 0.2587 - val_mean_squared_error: 0.2587\n",
      "Epoch 37/50\n",
      "80000/80000 [==============================] - 3s - loss: 0.2600 - mean_squared_error: 0.2600 - val_loss: 0.2689 - val_mean_squared_error: 0.2689\n",
      "Epoch 38/50\n",
      "80000/80000 [==============================] - 3s - loss: 0.2575 - mean_squared_error: 0.2575 - val_loss: 0.2591 - val_mean_squared_error: 0.2591\n",
      "Epoch 39/50\n",
      "80000/80000 [==============================] - 3s - loss: 0.2571 - mean_squared_error: 0.2571 - val_loss: 0.2711 - val_mean_squared_error: 0.2711\n",
      "Epoch 40/50\n",
      "80000/80000 [==============================] - 3s - loss: 0.2571 - mean_squared_error: 0.2571 - val_loss: 0.2660 - val_mean_squared_error: 0.2660\n",
      "Epoch 41/50\n",
      "80000/80000 [==============================] - 3s - loss: 0.2568 - mean_squared_error: 0.2568 - val_loss: 0.2635 - val_mean_squared_error: 0.2635\n",
      "Epoch 42/50\n",
      "80000/80000 [==============================] - 3s - loss: 0.2570 - mean_squared_error: 0.2570 - val_loss: 0.2674 - val_mean_squared_error: 0.2674\n",
      "Epoch 43/50\n",
      "80000/80000 [==============================] - 3s - loss: 0.2574 - mean_squared_error: 0.2574 - val_loss: 0.2616 - val_mean_squared_error: 0.2616\n",
      "Epoch 44/50\n",
      "80000/80000 [==============================] - 3s - loss: 0.2599 - mean_squared_error: 0.2599 - val_loss: 0.2651 - val_mean_squared_error: 0.2651\n",
      "Epoch 45/50\n",
      "80000/80000 [==============================] - 3s - loss: 0.2552 - mean_squared_error: 0.2552 - val_loss: 0.2693 - val_mean_squared_error: 0.2693\n",
      "Epoch 46/50\n",
      "80000/80000 [==============================] - 3s - loss: 0.2565 - mean_squared_error: 0.2565 - val_loss: 0.2615 - val_mean_squared_error: 0.2615\n",
      "Epoch 47/50\n",
      "80000/80000 [==============================] - 3s - loss: 0.2575 - mean_squared_error: 0.2575 - val_loss: 0.2628 - val_mean_squared_error: 0.2628\n",
      "Epoch 48/50\n",
      "80000/80000 [==============================] - 3s - loss: 0.2572 - mean_squared_error: 0.2572 - val_loss: 0.2638 - val_mean_squared_error: 0.2638\n",
      "Epoch 49/50\n",
      "80000/80000 [==============================] - 3s - loss: 0.2582 - mean_squared_error: 0.2582 - val_loss: 0.2591 - val_mean_squared_error: 0.2591\n",
      "Epoch 50/50\n",
      "80000/80000 [==============================] - 3s - loss: 0.2580 - mean_squared_error: 0.2580 - val_loss: 0.2640 - val_mean_squared_error: 0.2640\n"
     ]
    },
    {
     "data": {
      "text/plain": [
       "<keras.callbacks.History at 0x118cd2dd0>"
      ]
     },
     "execution_count": 58,
     "metadata": {},
     "output_type": "execute_result"
    }
   ],
   "source": [
    "model.fit(x, y, epochs=50, batch_size=32, validation_split=0.2, callbacks=[tfcb])"
   ]
  },
  {
   "cell_type": "code",
   "execution_count": null,
   "metadata": {
    "collapsed": true
   },
   "outputs": [],
   "source": [
    "df = pd.read_csv('')"
   ]
  }
 ],
 "metadata": {
  "kernelspec": {
   "display_name": "Python 2",
   "language": "python",
   "name": "python2"
  },
  "language_info": {
   "codemirror_mode": {
    "name": "ipython",
    "version": 2
   },
   "file_extension": ".py",
   "mimetype": "text/x-python",
   "name": "python",
   "nbconvert_exporter": "python",
   "pygments_lexer": "ipython2",
   "version": "2.7.10"
  }
 },
 "nbformat": 4,
 "nbformat_minor": 0
}
